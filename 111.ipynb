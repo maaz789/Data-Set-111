{
 "cells": [
  {
   "cell_type": "code",
   "execution_count": 14,
   "id": "8e81d054-807f-4411-8586-f1ec74266429",
   "metadata": {},
   "outputs": [
    {
     "name": "stdout",
     "output_type": "stream",
     "text": [
      "Initial DataFrame:\n",
      "  Student  Math  Science  English\n",
      "0    Maaz  95.0     45.0     88.0\n",
      "1  Duraid  88.0     78.0      NaN\n",
      "2   Wajhi   NaN     92.0     76.0\n",
      "3     Ali  85.0      NaN      NaN\n",
      "\n",
      "DataFrame after forward fill:\n",
      "  Student  Math  Science  English\n",
      "0    Maaz  95.0     45.0     88.0\n",
      "1  Duraid  88.0     78.0     88.0\n",
      "2   Wajhi  88.0     92.0     76.0\n",
      "3     Ali  85.0     92.0     76.0\n"
     ]
    }
   ],
   "source": [
    "import pandas as pd\n",
    "Student_score = {\n",
    "    'Student': ['Maaz', 'Duraid', 'Wajhi', 'Ali'],\n",
    "    'Math': [95, 88, None, 85],\n",
    "    'Science': [45, 78, 92, None],\n",
    "    'English': [88, None, 76, None]\n",
    "}\n",
    "df = pd.DataFrame(Student_score)\n",
    "print(\"Initial DataFrame:\")\n",
    "print(df)\n",
    "df_filled = df.ffill()\n",
    "print(\"\\nDataFrame after forward fill:\")\n",
    "print(df_filled)"
   ]
  },
  {
   "cell_type": "code",
   "execution_count": 15,
   "id": "a5c11bb9-e511-4f31-a864-090d7ae2bdde",
   "metadata": {},
   "outputs": [
    {
     "name": "stdout",
     "output_type": "stream",
     "text": [
      "Initial DataFrame:\n",
      "   Student_ID  Previous_GPA  Attendance  Study_Hours  Final_Score\n",
      "0         111           3.5          80            5           85\n",
      "1         122           3.8          90            7           90\n",
      "2         153           2.9          70            3           75\n",
      "3         154           3.2          85            4           80\n",
      "4         315           3.7          95            6           88\n",
      "\n",
      "Linear Regression - MSE: 12.26, R^2: -11.26\n",
      "\n",
      "Predicted vs Actual values:\n",
      "   Actual  Predicted\n",
      "1      90  94.587156\n",
      "4      88  89.862385\n"
     ]
    }
   ],
   "source": [
    "import pandas as pd\n",
    "from sklearn.model_selection import train_test_split\n",
    "from sklearn.linear_model import LinearRegression\n",
    "from sklearn.metrics import mean_squared_error, r2_score\n",
    "data = {\n",
    "    'Student_ID': [111, 122, 153, 154, 315],\n",
    "    'Previous_GPA': [3.5, 3.8, 2.9, 3.2, 3.7],\n",
    "    'Attendance': [80, 90, 70, 85, 95],\n",
    "    'Study_Hours': [5, 7, 3, 4, 6],\n",
    "    'Final_Score': [85, 90, 75, 80, 88] \n",
    "}\n",
    "df = pd.DataFrame(data)\n",
    "print(\"Initial DataFrame:\")\n",
    "print(df)\n",
    "X = df[['Previous_GPA', 'Attendance', 'Study_Hours']]\n",
    "y = df['Final_Score']\n",
    "\n",
    "X_train, X_test, y_train, y_test = train_test_split(X, y, test_size=0.4, random_state=42) \n",
    "\n",
    "model = LinearRegression()\n",
    "\n",
    "model.fit(X_train, y_train)\n",
    "\n",
    "y_pred = model.predict(X_test)\n",
    "\n",
    "mse = mean_squared_error(y_test, y_pred)\n",
    "if len(y_test) > 1:\n",
    "    r2 = r2_score(y_test, y_pred)\n",
    "    print(f\"\\nLinear Regression - MSE: {mse:.2f}, R^2: {r2:.2f}\")\n",
    "else:\n",
    "    print(f\"\\nLinear Regression - MSE: {mse:.2f}, R^2: Not calculated (less than two samples in test set)\")\n",
    "\n",
    "print(\"\\nPredicted vs Actual values:\")\n",
    "results = pd.DataFrame({'Actual': y_test, 'Predicted': y_pred})\n",
    "print(results)\n"
   ]
  },
  {
   "cell_type": "code",
   "execution_count": 18,
   "id": "90b026a1-a61f-4097-954a-2f42be227845",
   "metadata": {},
   "outputs": [
    {
     "name": "stdout",
     "output_type": "stream",
     "text": [
      "Accuracy: 1.00\n",
      "\n",
      "Classification Report:\n",
      "              precision    recall  f1-score   support\n",
      "\n",
      "           0       1.00      1.00      1.00         1\n",
      "           1       1.00      1.00      1.00         1\n",
      "\n",
      "    accuracy                           1.00         2\n",
      "   macro avg       1.00      1.00      1.00         2\n",
      "weighted avg       1.00      1.00      1.00         2\n",
      "\n"
     ]
    }
   ],
   "source": [
    "import pandas as pd\n",
    "from sklearn.model_selection import train_test_split\n",
    "from sklearn.tree import DecisionTreeClassifier\n",
    "from sklearn.metrics import accuracy_score, classification_report\n",
    "\n",
    "data = {\n",
    "    'Credit_Score': [700, 650, 720, 600, 750, 580, 710],\n",
    "    'Income': [50000, 45000, 60000, 40000, 70000, 35000, 55000],\n",
    "    'Loan_Amount': [20000, 25000, 15000, 30000, 18000, 32000, 22000],\n",
    "    'Payment_History': ['Good', 'Average', 'Excellent', 'Poor', 'Good', 'Poor', 'Good'],\n",
    "    'Risk_Label': ['Low', 'High', 'Low', 'High', 'Low', 'High', 'Low']\n",
    "}\n",
    "df = pd.DataFrame(data)\n",
    "\n",
    "df['Payment_History'] = df['Payment_History'].astype('category').cat.codes\n",
    "df['Risk_Label'] = df['Risk_Label'].astype('category').cat.codes\n",
    "\n",
    "X = df[['Credit_Score', 'Income', 'Loan_Amount', 'Payment_History']]\n",
    "y = df['Risk_Label']\n",
    "\n",
    "X_train, X_test, y_train, y_test = train_test_split(X, y, test_size=0.2, random_state=42)\n",
    "\n",
    "model = DecisionTreeClassifier(random_state=42)\n",
    "model.fit(X_train, y_train)\n",
    "\n",
    "y_pred = model.predict(X_test)\n",
    "\n",
    "print(f\"Accuracy: {accuracy_score(y_test, y_pred):.2f}\")\n",
    "print(\"\\nClassification Report:\")\n",
    "print(classification_report(y_test, y_pred))"
   ]
  },
  {
   "cell_type": "code",
   "execution_count": 31,
   "id": "e917ce4f-b295-4163-b6ca-17549abf3ca3",
   "metadata": {},
   "outputs": [
    {
     "name": "stdout",
     "output_type": "stream",
     "text": [
      "Email Classification Results:\n",
      "Email: Congratulations, you have won a prize! -> Classification: spam\n",
      "Email: Meeting scheduled for tomorrow at 3 PM. -> Classification: not spam\n",
      "Email: Claim your free gift now, limited time only! -> Classification: spam\n",
      "Email: Dear team, please find the attached report. -> Classification: not spam\n"
     ]
    }
   ],
   "source": [
    "import pandas as pd\n",
    "from sklearn.feature_extraction.text import CountVectorizer\n",
    "from sklearn.naive_bayes import MultinomialNB\n",
    "\n",
    "# Sample dataset\n",
    "data = {\n",
    "    'Email': [\n",
    "        'Congratulations, you have won a prize!',\n",
    "        'Meeting scheduled for tomorrow at 3 PM.',\n",
    "        'Claim your free gift now, limited time only!',\n",
    "        'Dear team, please find the attached report.'\n",
    "    ],\n",
    "    'Label': ['spam', 'not spam', 'spam', 'not spam']\n",
    "}\n",
    "\n",
    "df = pd.DataFrame(data)\n",
    "\n",
    "vectorizer = CountVectorizer(stop_words='english')\n",
    "X = vectorizer.fit_transform(df['Email'])\n",
    "y = df['Label']\n",
    "model = MultinomialNB()\n",
    "model.fit(X, y)\n",
    "predictions = model.predict(X)\n",
    "print(\"Email Classification Results:\")\n",
    "for email, prediction in zip(df['Email'], predictions):\n",
    "    print(f\"Email: {email} -> Classification: {prediction}\")"
   ]
  },
  {
   "cell_type": "code",
   "execution_count": 26,
   "id": "f2c9a768-6ef8-40d1-b473-786d3ac25602",
   "metadata": {},
   "outputs": [
    {
     "name": "stdout",
     "output_type": "stream",
     "text": [
      "Diagnosis Results:\n",
      "Symptoms: fever cough headache -> Diagnosis: disease A\n",
      "Symptoms: chest pain difficulty breathing -> Diagnosis: disease B\n",
      "Symptoms: headache sore throat -> Diagnosis: disease A\n",
      "Symptoms: nausea vomiting diarrhea -> Diagnosis: disease B\n"
     ]
    }
   ],
   "source": [
    "import pandas as pd\n",
    "from sklearn.feature_extraction.text import CountVectorizer\n",
    "from sklearn.naive_bayes import MultinomialNB\n",
    "\n",
    "# Sample dataset\n",
    "data = {\n",
    "    'Symptoms': [\n",
    "        'fever cough headache',\n",
    "        'chest pain difficulty breathing',\n",
    "        'headache sore throat',\n",
    "        'nausea vomiting diarrhea',\n",
    "    ],\n",
    "    'Diagnosis': ['disease A', 'disease B', 'disease A', 'disease B']\n",
    "}\n",
    "df = pd.DataFrame(data)\n",
    "\n",
    "vectorizer = CountVectorizer(stop_words='english')\n",
    "X = vectorizer.fit_transform(df['Symptoms'])\n",
    "y = df['Diagnosis']\n",
    "\n",
    "model = MultinomialNB()\n",
    "model.fit(X, y)\n",
    "\n",
    "predictions = model.predict(X)\n",
    "print(\"Diagnosis Results:\")\n",
    "for symptoms, prediction in zip(df['Symptoms'], predictions):\n",
    "    print(f\"Symptoms: {symptoms} -> Diagnosis: {prediction}\")\n"
   ]
  },
  {
   "cell_type": "code",
   "execution_count": 29,
   "id": "bb747dcc-fbd2-4f45-9f10-c6f464f355cc",
   "metadata": {},
   "outputs": [
    {
     "name": "stdout",
     "output_type": "stream",
     "text": [
      "Model Evaluation:\n",
      "Mean Squared Error (MSE): 4733167.505229404\n",
      "R-squared (R^2): 0.9924269319916329\n",
      "\n",
      "Predicted Prices:\n",
      "Actual Price: $450000.00 -> Predicted Price: $452744.36\n",
      "Actual Price: $400000.00 -> Predicted Price: $401390.98\n"
     ]
    }
   ],
   "source": [
    "import pandas as pd\n",
    "from sklearn.model_selection import train_test_split\n",
    "from sklearn.linear_model import LinearRegression\n",
    "from sklearn.metrics import mean_squared_error, r2_score\n",
    "data = {\n",
    "    'Number of Rooms': [3, 4, 2, 5],\n",
    "    'Size (sq ft)': [1500, 2000, 1200, 2500],\n",
    "    'Price ($)': [300000, 400000, 250000, 500000]\n",
    "}\n",
    "df = pd.DataFrame(data)\n",
    "\n",
    "X_train, X_test, y_train, y_test = train_test_split(X, y, test_size=0.2, random_state=42)\n",
    "\n",
    "model = LinearRegression()\n",
    "model.fit(X_train, y_train)\n",
    "y_pred = model.predict(X_test)\n",
    "mse = mean_squared_error(y_test, y_pred)\n",
    "r2 = r2_score(y_test, y_pred)\n",
    "\n",
    "print(\"Model Evaluation:\")\n",
    "print(f\"Mean Squared Error (MSE): {mse}\")\n",
    "print(f\"R-squared (R^2): {r2}\")\n",
    "\n",
    "print(\"\\nPredicted Prices:\")\n",
    "for actual, predicted in zip(y_test, y_pred):\n",
    "    print(f\"Actual Price: ${actual:.2f} -> Predicted Price: ${predicted:.2f}\")"
   ]
  },
  {
   "cell_type": "code",
   "execution_count": null,
   "id": "4a431153-1b7f-4717-b146-a1ae448ee4ad",
   "metadata": {},
   "outputs": [],
   "source": []
  }
 ],
 "metadata": {
  "kernelspec": {
   "display_name": "Python 3 (ipykernel)",
   "language": "python",
   "name": "python3"
  },
  "language_info": {
   "codemirror_mode": {
    "name": "ipython",
    "version": 3
   },
   "file_extension": ".py",
   "mimetype": "text/x-python",
   "name": "python",
   "nbconvert_exporter": "python",
   "pygments_lexer": "ipython3",
   "version": "3.11.7"
  }
 },
 "nbformat": 4,
 "nbformat_minor": 5
}
